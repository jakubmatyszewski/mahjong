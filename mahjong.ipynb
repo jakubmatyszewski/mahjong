{
 "cells": [
  {
   "cell_type": "code",
   "execution_count": 1,
   "metadata": {},
   "outputs": [],
   "source": [
    "import cv2\n",
    "import pyautogui\n",
    "import time\n",
    "import numpy as np\n",
    "from matplotlib import pyplot as plt\n",
    "\n",
    "pyautogui.FAILSAFE = True"
   ]
  },
  {
   "cell_type": "code",
   "execution_count": 45,
   "metadata": {},
   "outputs": [],
   "source": [
    "class Mahjong:\n",
    "    def __init__(self):\n",
    "        threshold = 0.2\n",
    "        self.min_th, self.max_th = (1-threshold, 1+threshold)\n",
    "        self.img_path = '/home/jakub/Pictures/mahjong.png'\n",
    "        self.pattern_path = '/home/jakub/Pictures/pattern.png'\n",
    "        self.rec_ratio, self.height_ratio, self.i_w, self.i_h = self.get_ratios()\n",
    "        \n",
    "    def get_ratios(self):\n",
    "        img_rgb = cv2.imread(self.img_path, 0)\n",
    "        i_w, i_h = img_rgb.shape[::-1]\n",
    "        template = cv2.imread(self.pattern_path, 0)\n",
    "        t_w, t_h = template.shape[::-1]\n",
    "        rec_ratio = t_w/t_h  # Expected tile ratio\n",
    "        height_ratio = t_h/i_h  # Expected tile-to-board height ratio\n",
    "        return rec_ratio, height_ratio, i_w, i_h\n",
    "    \n",
    "    def capture_screenshot(self):\n",
    "        image = pyautogui.screenshot()  # Captured image in PIL\n",
    "        cv_image = np.array(image)  # Cv2 compatible image\n",
    "        return cv_image[:, :, ::-1]  # Convert RGB to BGR \n",
    "    \n",
    "    def loc_tiles(self):\n",
    "        self.tiles = []\n",
    "        self.lonely = []\n",
    "        self.screen = self.capture_screenshot().copy()\n",
    "        img_gray = cv2.cvtColor(self.screen, cv2.COLOR_BGR2GRAY)\n",
    "        binary = cv2.bitwise_not(img_gray)\n",
    "        (contours,_) = cv2.findContours(binary, cv2.RETR_TREE, cv2.CHAIN_APPROX_NONE)\n",
    "        \n",
    "        for contour in contours:\n",
    "            (x,y,w,h) = cv2.boundingRect(contour)\n",
    "            if (w/h > (self.rec_ratio * self.min_th)\n",
    "                and w/h < (self.rec_ratio * self.max_th)\n",
    "                and h/self.i_h > (self.height_ratio * self.min_th)\n",
    "                and h/self.i_h < (self.height_ratio * self.max_th)):\n",
    "                self.tiles.append((x, y, h, w))\n",
    "        print('%d tiles detected.' % len(self.tiles))\n",
    "    \n",
    "    def loc_siblings(self, i):\n",
    "        x, y, h, w = self.tiles[i]\n",
    "        look_for = self.screen[y:y+h, x:x+w]\n",
    "        res = cv2.matchTemplate(self.screen, look_for, cv2.TM_CCOEFF_NORMED)\n",
    "        threshold = 0.8\n",
    "        loc = np.where(res >= threshold)\n",
    "        look = zip(*loc[::-1])\n",
    "        for pt in look:\n",
    "            if loc[::-1][0].size == 1:\n",
    "                print('im lonely')\n",
    "                self.lonely.append(pt)\n",
    "                break\n",
    "            pyautogui.click(x=(pt[0]+w/2), y=(pt[1]+h/2))\n",
    "\n",
    "    def solve(self):\n",
    "        start = time.time()\n",
    "        self.loc_tiles()\n",
    "        for tile in range(len(self.tiles)):\n",
    "            self.loc_siblings(tile)\n",
    "        print(self.lonely)\n",
    "        stop = time.time()\n",
    "        return stop - start"
   ]
  },
  {
   "cell_type": "code",
   "execution_count": 46,
   "metadata": {},
   "outputs": [],
   "source": [
    "m = Mahjong()"
   ]
  },
  {
   "cell_type": "code",
   "execution_count": 47,
   "metadata": {
    "collapsed": true
   },
   "outputs": [
    {
     "name": "stdout",
     "output_type": "stream",
     "text": [
      "86 tiles detected.\n",
      "im lonely\n",
      "im lonely\n",
      "im lonely\n",
      "im lonely\n",
      "im lonely\n",
      "im lonely\n",
      "im lonely\n",
      "im lonely\n"
     ]
    },
    {
     "ename": "FailSafeException",
     "evalue": "PyAutoGUI fail-safe triggered from mouse moving to a corner of the screen. To disable this fail-safe, set pyautogui.FAILSAFE to False. DISABLING FAIL-SAFE IS NOT RECOMMENDED.",
     "output_type": "error",
     "traceback": [
      "\u001b[0;31m---------------------------------------------------------------------------\u001b[0m",
      "\u001b[0;31mFailSafeException\u001b[0m                         Traceback (most recent call last)",
      "\u001b[0;32m<ipython-input-47-5a6ec0364643>\u001b[0m in \u001b[0;36m<module>\u001b[0;34m\u001b[0m\n\u001b[0;32m----> 1\u001b[0;31m \u001b[0mm\u001b[0m\u001b[0;34m.\u001b[0m\u001b[0msolve\u001b[0m\u001b[0;34m(\u001b[0m\u001b[0;34m)\u001b[0m\u001b[0;34m\u001b[0m\u001b[0;34m\u001b[0m\u001b[0m\n\u001b[0m",
      "\u001b[0;32m<ipython-input-45-4d0f6ef9faaf>\u001b[0m in \u001b[0;36msolve\u001b[0;34m(self)\u001b[0m\n\u001b[1;32m     62\u001b[0m         \u001b[0mself\u001b[0m\u001b[0;34m.\u001b[0m\u001b[0mloc_tiles\u001b[0m\u001b[0;34m(\u001b[0m\u001b[0;34m)\u001b[0m\u001b[0;34m\u001b[0m\u001b[0;34m\u001b[0m\u001b[0m\n\u001b[1;32m     63\u001b[0m         \u001b[0;32mfor\u001b[0m \u001b[0mtile\u001b[0m \u001b[0;32min\u001b[0m \u001b[0mrange\u001b[0m\u001b[0;34m(\u001b[0m\u001b[0mlen\u001b[0m\u001b[0;34m(\u001b[0m\u001b[0mself\u001b[0m\u001b[0;34m.\u001b[0m\u001b[0mtiles\u001b[0m\u001b[0;34m)\u001b[0m\u001b[0;34m)\u001b[0m\u001b[0;34m:\u001b[0m\u001b[0;34m\u001b[0m\u001b[0;34m\u001b[0m\u001b[0m\n\u001b[0;32m---> 64\u001b[0;31m             \u001b[0mself\u001b[0m\u001b[0;34m.\u001b[0m\u001b[0mloc_siblings\u001b[0m\u001b[0;34m(\u001b[0m\u001b[0mtile\u001b[0m\u001b[0;34m)\u001b[0m\u001b[0;34m\u001b[0m\u001b[0;34m\u001b[0m\u001b[0m\n\u001b[0m\u001b[1;32m     65\u001b[0m         \u001b[0mprint\u001b[0m\u001b[0;34m(\u001b[0m\u001b[0mself\u001b[0m\u001b[0;34m.\u001b[0m\u001b[0mlonely\u001b[0m\u001b[0;34m)\u001b[0m\u001b[0;34m\u001b[0m\u001b[0;34m\u001b[0m\u001b[0m\n\u001b[1;32m     66\u001b[0m         \u001b[0mstop\u001b[0m \u001b[0;34m=\u001b[0m \u001b[0mtime\u001b[0m\u001b[0;34m.\u001b[0m\u001b[0mtime\u001b[0m\u001b[0;34m(\u001b[0m\u001b[0;34m)\u001b[0m\u001b[0;34m\u001b[0m\u001b[0;34m\u001b[0m\u001b[0m\n",
      "\u001b[0;32m<ipython-input-45-4d0f6ef9faaf>\u001b[0m in \u001b[0;36mloc_siblings\u001b[0;34m(self, i)\u001b[0m\n\u001b[1;32m     50\u001b[0m                 \u001b[0mself\u001b[0m\u001b[0;34m.\u001b[0m\u001b[0mlonely\u001b[0m\u001b[0;34m.\u001b[0m\u001b[0mappend\u001b[0m\u001b[0;34m(\u001b[0m\u001b[0mpt\u001b[0m\u001b[0;34m)\u001b[0m\u001b[0;34m\u001b[0m\u001b[0;34m\u001b[0m\u001b[0m\n\u001b[1;32m     51\u001b[0m                 \u001b[0;32mbreak\u001b[0m\u001b[0;34m\u001b[0m\u001b[0;34m\u001b[0m\u001b[0m\n\u001b[0;32m---> 52\u001b[0;31m             \u001b[0mpyautogui\u001b[0m\u001b[0;34m.\u001b[0m\u001b[0mclick\u001b[0m\u001b[0;34m(\u001b[0m\u001b[0mx\u001b[0m\u001b[0;34m=\u001b[0m\u001b[0;34m(\u001b[0m\u001b[0mpt\u001b[0m\u001b[0;34m[\u001b[0m\u001b[0;36m0\u001b[0m\u001b[0;34m]\u001b[0m\u001b[0;34m+\u001b[0m\u001b[0mw\u001b[0m\u001b[0;34m/\u001b[0m\u001b[0;36m2\u001b[0m\u001b[0;34m)\u001b[0m\u001b[0;34m,\u001b[0m \u001b[0my\u001b[0m\u001b[0;34m=\u001b[0m\u001b[0;34m(\u001b[0m\u001b[0mpt\u001b[0m\u001b[0;34m[\u001b[0m\u001b[0;36m1\u001b[0m\u001b[0;34m]\u001b[0m\u001b[0;34m+\u001b[0m\u001b[0mh\u001b[0m\u001b[0;34m/\u001b[0m\u001b[0;36m2\u001b[0m\u001b[0;34m)\u001b[0m\u001b[0;34m)\u001b[0m\u001b[0;34m\u001b[0m\u001b[0;34m\u001b[0m\u001b[0m\n\u001b[0m\u001b[1;32m     53\u001b[0m \u001b[0;31m#             clicked_screen = self.capture_screenshot()\u001b[0m\u001b[0;34m\u001b[0m\u001b[0;34m\u001b[0m\u001b[0;34m\u001b[0m\u001b[0m\n\u001b[1;32m     54\u001b[0m \u001b[0;31m#             clicked_tile = clicked_screen[pt[1]:pt[1]+h, pt[0]:pt[0]+w]\u001b[0m\u001b[0;34m\u001b[0m\u001b[0;34m\u001b[0m\u001b[0;34m\u001b[0m\u001b[0m\n",
      "\u001b[0;32m~/anaconda3/lib/python3.7/site-packages/pyautogui/__init__.py\u001b[0m in \u001b[0;36mclick\u001b[0;34m(x, y, clicks, interval, button, duration, tween, pause, logScreenshot, _pause)\u001b[0m\n\u001b[1;32m    518\u001b[0m     \"\"\"\n\u001b[1;32m    519\u001b[0m     \u001b[0mbutton\u001b[0m \u001b[0;34m=\u001b[0m \u001b[0m_translateButton\u001b[0m\u001b[0;34m(\u001b[0m\u001b[0mbutton\u001b[0m\u001b[0;34m)\u001b[0m\u001b[0;34m\u001b[0m\u001b[0;34m\u001b[0m\u001b[0m\n\u001b[0;32m--> 520\u001b[0;31m     \u001b[0mfailSafeCheck\u001b[0m\u001b[0;34m(\u001b[0m\u001b[0;34m)\u001b[0m\u001b[0;34m\u001b[0m\u001b[0;34m\u001b[0m\u001b[0m\n\u001b[0m\u001b[1;32m    521\u001b[0m     \u001b[0mx\u001b[0m\u001b[0;34m,\u001b[0m \u001b[0my\u001b[0m \u001b[0;34m=\u001b[0m \u001b[0m_unpackXY\u001b[0m\u001b[0;34m(\u001b[0m\u001b[0mx\u001b[0m\u001b[0;34m,\u001b[0m \u001b[0my\u001b[0m\u001b[0;34m)\u001b[0m\u001b[0;34m\u001b[0m\u001b[0;34m\u001b[0m\u001b[0m\n\u001b[1;32m    522\u001b[0m \u001b[0;34m\u001b[0m\u001b[0m\n",
      "\u001b[0;32m~/anaconda3/lib/python3.7/site-packages/pyautogui/__init__.py\u001b[0m in \u001b[0;36mfailSafeCheck\u001b[0;34m()\u001b[0m\n\u001b[1;32m   1255\u001b[0m \u001b[0;32mdef\u001b[0m \u001b[0mfailSafeCheck\u001b[0m\u001b[0;34m(\u001b[0m\u001b[0;34m)\u001b[0m\u001b[0;34m:\u001b[0m\u001b[0;34m\u001b[0m\u001b[0;34m\u001b[0m\u001b[0m\n\u001b[1;32m   1256\u001b[0m     \u001b[0;32mif\u001b[0m \u001b[0mFAILSAFE\u001b[0m \u001b[0;32mand\u001b[0m \u001b[0mtuple\u001b[0m\u001b[0;34m(\u001b[0m\u001b[0mposition\u001b[0m\u001b[0;34m(\u001b[0m\u001b[0;34m)\u001b[0m\u001b[0;34m)\u001b[0m \u001b[0;32min\u001b[0m \u001b[0mFAILSAFE_POINTS\u001b[0m\u001b[0;34m:\u001b[0m\u001b[0;34m\u001b[0m\u001b[0;34m\u001b[0m\u001b[0m\n\u001b[0;32m-> 1257\u001b[0;31m         \u001b[0;32mraise\u001b[0m \u001b[0mFailSafeException\u001b[0m\u001b[0;34m(\u001b[0m\u001b[0;34m'PyAutoGUI fail-safe triggered from mouse moving to a corner of the screen. To disable this fail-safe, set pyautogui.FAILSAFE to False. DISABLING FAIL-SAFE IS NOT RECOMMENDED.'\u001b[0m\u001b[0;34m)\u001b[0m\u001b[0;34m\u001b[0m\u001b[0;34m\u001b[0m\u001b[0m\n\u001b[0m\u001b[1;32m   1258\u001b[0m \u001b[0;34m\u001b[0m\u001b[0m\n\u001b[1;32m   1259\u001b[0m \u001b[0;34m\u001b[0m\u001b[0m\n",
      "\u001b[0;31mFailSafeException\u001b[0m: PyAutoGUI fail-safe triggered from mouse moving to a corner of the screen. To disable this fail-safe, set pyautogui.FAILSAFE to False. DISABLING FAIL-SAFE IS NOT RECOMMENDED."
     ]
    }
   ],
   "source": [
    "m.solve()"
   ]
  },
  {
   "cell_type": "code",
   "execution_count": 4,
   "metadata": {},
   "outputs": [
    {
     "data": {
      "text/plain": [
       "[{'left': 0, 'top': 0, 'width': 1920, 'height': 1080},\n",
       " {'left': 0, 'top': 0, 'width': 1920, 'height': 1080}]"
      ]
     },
     "execution_count": 4,
     "metadata": {},
     "output_type": "execute_result"
    }
   ],
   "source": [
    "import mss\n",
    "s = mss.mss()\n",
    "s.monitors"
   ]
  },
  {
   "cell_type": "code",
   "execution_count": 5,
   "metadata": {},
   "outputs": [],
   "source": [
    "image = pyautogui.screenshot()  # Captured image in PIL\n",
    "cv_image = np.array(image)  # Cv2 compatible image\n",
    "i = cv_image[:, :, ::-1]  # Convert RGB to BGR "
   ]
  },
  {
   "cell_type": "code",
   "execution_count": 6,
   "metadata": {},
   "outputs": [],
   "source": [
    "threshold = 0.2\n",
    "min_th, max_th = (1-threshold, 1+threshold)\n",
    "img_path = '/home/jakub/Pictures/mahjong.png'\n",
    "pattern_path = '/home/jakub/Pictures/pattern.png'"
   ]
  },
  {
   "cell_type": "code",
   "execution_count": 7,
   "metadata": {},
   "outputs": [],
   "source": [
    "def get_ratios():\n",
    "    img_rgb = cv2.imread(img_path, 0)\n",
    "    i_w, i_h = img_rgb.shape[::-1]\n",
    "    template = cv2.imread(pattern_path, 0)\n",
    "    t_w, t_h = template.shape[::-1]\n",
    "    rec_ratio = t_w/t_h  # Expected tile ratio\n",
    "    height_ratio = t_h/i_h  # Expected tile-to-board height ratio\n",
    "    return rec_ratio, height_ratio, i_w, i_h\n",
    "\n",
    "rec_ratio, height_ratio, i_w, i_h = get_ratios()"
   ]
  },
  {
   "cell_type": "code",
   "execution_count": 8,
   "metadata": {},
   "outputs": [],
   "source": [
    "def loc_tiles(screen):\n",
    "    tiles = []\n",
    "    lonely = []\n",
    "    img_gray = cv2.cvtColor(screen, cv2.COLOR_BGR2GRAY)\n",
    "    binary = cv2.bitwise_not(img_gray)\n",
    "    (contours,_) = cv2.findContours(binary, cv2.RETR_TREE, cv2.CHAIN_APPROX_NONE)\n",
    "\n",
    "    for contour in contours:\n",
    "        (x,y,w,h) = cv2.boundingRect(contour)\n",
    "        if (w/h > (rec_ratio * min_th)\n",
    "            and w/h < (rec_ratio * max_th)\n",
    "            and h/i_h > (height_ratio * min_th)\n",
    "            and h/i_h < (height_ratio * max_th)):\n",
    "            tiles.append((x, y, h, w))\n",
    "    print('%d tiles detected.' % len(tiles))\n",
    "    return tiles"
   ]
  },
  {
   "cell_type": "code",
   "execution_count": 12,
   "metadata": {},
   "outputs": [],
   "source": [
    "def try_tile(screen, tile):\n",
    "    x, y, w, h = tile\n",
    "    pre_click = screen[y:y+h, x:x+w]\n",
    "    pyautogui.click(x=(x+w/2), y=(y+h/2))\n",
    "    post_click = screen[y:y+h, x:x+w]\n",
    "    difference = cv2.subtract(pre_click, post_click)\n",
    "    b, g, r = cv2.split(difference)\n",
    "    if cv2.countNonZero(b) == 0 and cv2.countNonZero(g) == 0 and cv2.countNonZero(r) == 0:\n",
    "        print(\"Not clickable\")\n",
    "    else:\n",
    "        print(\"Clickable\")"
   ]
  },
  {
   "cell_type": "code",
   "execution_count": 10,
   "metadata": {
    "scrolled": true
   },
   "outputs": [
    {
     "name": "stdout",
     "output_type": "stream",
     "text": [
      "88 tiles detected.\n"
     ]
    },
    {
     "data": {
      "text/plain": [
       "[(672, 562, 57, 39),\n",
       " (632, 562, 57, 39),\n",
       " (592, 562, 57, 39),\n",
       " (552, 562, 57, 39),\n",
       " (512, 562, 57, 39),\n",
       " (472, 562, 57, 39),\n",
       " (432, 562, 57, 39),\n",
       " (392, 562, 57, 39),\n",
       " (352, 562, 57, 39),\n",
       " (312, 562, 57, 39),\n",
       " (272, 562, 57, 39),\n",
       " (232, 562, 57, 39),\n",
       " (594, 504, 57, 37),\n",
       " (312, 504, 57, 39),\n",
       " (558, 498, 57, 39),\n",
       " (518, 498, 57, 39),\n",
       " (478, 498, 57, 39),\n",
       " (438, 498, 57, 39),\n",
       " (398, 498, 57, 39),\n",
       " (358, 498, 57, 39),\n",
       " (632, 447, 57, 39),\n",
       " (597, 447, 57, 34),\n",
       " (312, 447, 57, 39),\n",
       " (272, 447, 57, 39),\n",
       " (559, 441, 57, 38),\n",
       " (358, 441, 57, 39),\n",
       " (524, 435, 57, 39),\n",
       " (484, 435, 57, 39),\n",
       " (444, 435, 57, 39),\n",
       " (404, 435, 57, 39),\n",
       " (672, 389, 57, 39),\n",
       " (632, 389, 57, 39),\n",
       " (597, 389, 57, 34),\n",
       " (312, 389, 57, 39),\n",
       " (272, 389, 57, 39),\n",
       " (232, 389, 57, 39),\n",
       " (563, 383, 57, 34),\n",
       " (358, 383, 57, 39),\n",
       " (526, 377, 57, 37),\n",
       " (404, 377, 57, 39),\n",
       " (490, 371, 57, 39),\n",
       " (450, 371, 57, 39),\n",
       " (752, 360, 57, 39),\n",
       " (712, 360, 57, 39),\n",
       " (192, 360, 57, 39),\n",
       " (476, 336, 57, 39),\n",
       " (672, 331, 57, 39),\n",
       " (632, 331, 57, 39),\n",
       " (597, 331, 57, 34),\n",
       " (312, 331, 57, 39),\n",
       " (272, 331, 57, 39),\n",
       " (232, 331, 57, 39),\n",
       " (563, 325, 57, 34),\n",
       " (358, 325, 57, 39),\n",
       " (529, 319, 57, 34),\n",
       " (404, 319, 57, 39),\n",
       " (490, 313, 57, 39),\n",
       " (450, 313, 57, 39),\n",
       " (632, 273, 57, 39),\n",
       " (597, 273, 57, 34),\n",
       " (312, 273, 57, 39),\n",
       " (272, 273, 57, 39),\n",
       " (563, 267, 57, 34),\n",
       " (358, 267, 57, 39),\n",
       " (524, 261, 57, 39),\n",
       " (484, 261, 53, 39),\n",
       " (444, 261, 56, 39),\n",
       " (404, 261, 57, 39),\n",
       " (597, 216, 57, 34),\n",
       " (312, 216, 57, 39),\n",
       " (558, 210, 57, 39),\n",
       " (518, 210, 52, 39),\n",
       " (478, 210, 52, 39),\n",
       " (438, 210, 52, 39),\n",
       " (398, 210, 55, 39),\n",
       " (358, 210, 57, 39),\n",
       " (672, 158, 57, 39),\n",
       " (632, 158, 57, 39),\n",
       " (592, 158, 57, 39),\n",
       " (552, 158, 52, 39),\n",
       " (512, 158, 52, 39),\n",
       " (472, 158, 52, 39),\n",
       " (432, 158, 52, 39),\n",
       " (392, 158, 52, 39),\n",
       " (352, 158, 56, 39),\n",
       " (312, 158, 57, 39),\n",
       " (272, 158, 57, 39),\n",
       " (232, 158, 57, 39)]"
      ]
     },
     "execution_count": 10,
     "metadata": {},
     "output_type": "execute_result"
    }
   ],
   "source": [
    "loc_tiles(i)"
   ]
  },
  {
   "cell_type": "code",
   "execution_count": 25,
   "metadata": {
    "scrolled": true
   },
   "outputs": [
    {
     "name": "stdout",
     "output_type": "stream",
     "text": [
      "87 tiles detected.\n",
      "Clickable\n",
      "Not clickable\n",
      "Not clickable\n",
      "Not clickable\n",
      "Not clickable\n",
      "Not clickable\n",
      "Not clickable\n",
      "Not clickable\n",
      "Not clickable\n",
      "Not clickable\n",
      "Not clickable\n",
      "Clickable\n",
      "Clickable\n",
      "Clickable\n",
      "Not clickable\n",
      "Not clickable\n",
      "Not clickable\n",
      "Not clickable\n",
      "Clickable\n",
      "Clickable\n",
      "Not clickable\n",
      "Not clickable\n",
      "Clickable\n",
      "Clickable\n",
      "Clickable\n",
      "Clickable\n",
      "Not clickable\n",
      "Not clickable\n",
      "Clickable\n",
      "Not clickable\n",
      "Not clickable\n",
      "Not clickable\n",
      "Not clickable\n",
      "Not clickable\n",
      "Not clickable\n",
      "Clickable\n",
      "Clickable\n",
      "Clickable\n",
      "Clickable\n",
      "Not clickable\n",
      "Clickable\n",
      "Clickable\n",
      "Not clickable\n",
      "Clickable\n",
      "Clickable\n",
      "Not clickable\n",
      "Not clickable\n",
      "Not clickable\n",
      "Not clickable\n",
      "Not clickable\n",
      "Not clickable\n",
      "Clickable\n",
      "Clickable\n",
      "Clickable\n",
      "Clickable\n",
      "Not clickable\n",
      "Not clickable\n",
      "Clickable\n",
      "Not clickable\n",
      "Not clickable\n",
      "Clickable\n",
      "Clickable\n",
      "Clickable\n",
      "Clickable\n",
      "Not clickable\n",
      "Not clickable\n",
      "Clickable\n"
     ]
    },
    {
     "ename": "FailSafeException",
     "evalue": "PyAutoGUI fail-safe triggered from mouse moving to a corner of the screen. To disable this fail-safe, set pyautogui.FAILSAFE to False. DISABLING FAIL-SAFE IS NOT RECOMMENDED.",
     "output_type": "error",
     "traceback": [
      "\u001b[0;31m---------------------------------------------------------------------------\u001b[0m",
      "\u001b[0;31mFailSafeException\u001b[0m                         Traceback (most recent call last)",
      "\u001b[0;32m<ipython-input-25-46543f46ed14>\u001b[0m in \u001b[0;36m<module>\u001b[0;34m\u001b[0m\n\u001b[1;32m     25\u001b[0m             \u001b[0mimg\u001b[0m \u001b[0;34m=\u001b[0m \u001b[0mcv2\u001b[0m\u001b[0;34m.\u001b[0m\u001b[0mcvtColor\u001b[0m\u001b[0;34m(\u001b[0m\u001b[0mimg\u001b[0m\u001b[0;34m,\u001b[0m \u001b[0mcv2\u001b[0m\u001b[0;34m.\u001b[0m\u001b[0mCOLOR_BGRA2BGR\u001b[0m\u001b[0;34m)\u001b[0m\u001b[0;34m\u001b[0m\u001b[0;34m\u001b[0m\u001b[0m\n\u001b[1;32m     26\u001b[0m             \u001b[0mpre_click\u001b[0m \u001b[0;34m=\u001b[0m \u001b[0mimg\u001b[0m\u001b[0;34m[\u001b[0m\u001b[0my\u001b[0m\u001b[0;34m:\u001b[0m\u001b[0my\u001b[0m\u001b[0;34m+\u001b[0m\u001b[0mh\u001b[0m\u001b[0;34m,\u001b[0m \u001b[0mx\u001b[0m\u001b[0;34m:\u001b[0m\u001b[0mx\u001b[0m\u001b[0;34m+\u001b[0m\u001b[0mw\u001b[0m\u001b[0;34m]\u001b[0m\u001b[0;34m\u001b[0m\u001b[0;34m\u001b[0m\u001b[0m\n\u001b[0;32m---> 27\u001b[0;31m             \u001b[0mpyautogui\u001b[0m\u001b[0;34m.\u001b[0m\u001b[0mclick\u001b[0m\u001b[0;34m(\u001b[0m\u001b[0mx\u001b[0m\u001b[0;34m=\u001b[0m\u001b[0;34m(\u001b[0m\u001b[0mx\u001b[0m\u001b[0;34m+\u001b[0m\u001b[0mw\u001b[0m\u001b[0;34m/\u001b[0m\u001b[0;36m2\u001b[0m\u001b[0;34m)\u001b[0m\u001b[0;34m,\u001b[0m \u001b[0my\u001b[0m\u001b[0;34m=\u001b[0m\u001b[0;34m(\u001b[0m\u001b[0my\u001b[0m\u001b[0;34m+\u001b[0m\u001b[0mh\u001b[0m\u001b[0;34m/\u001b[0m\u001b[0;36m2\u001b[0m\u001b[0;34m)\u001b[0m\u001b[0;34m)\u001b[0m\u001b[0;34m\u001b[0m\u001b[0;34m\u001b[0m\u001b[0m\n\u001b[0m\u001b[1;32m     28\u001b[0m             \u001b[0mscreen\u001b[0m \u001b[0;34m=\u001b[0m \u001b[0mnumpy\u001b[0m\u001b[0;34m.\u001b[0m\u001b[0marray\u001b[0m\u001b[0;34m(\u001b[0m\u001b[0msct\u001b[0m\u001b[0;34m.\u001b[0m\u001b[0mgrab\u001b[0m\u001b[0;34m(\u001b[0m\u001b[0mmonitor\u001b[0m\u001b[0;34m)\u001b[0m\u001b[0;34m)\u001b[0m\u001b[0;34m\u001b[0m\u001b[0;34m\u001b[0m\u001b[0m\n\u001b[1;32m     29\u001b[0m             \u001b[0mscreen\u001b[0m \u001b[0;34m=\u001b[0m \u001b[0mcv2\u001b[0m\u001b[0;34m.\u001b[0m\u001b[0mcvtColor\u001b[0m\u001b[0;34m(\u001b[0m\u001b[0mscreen\u001b[0m\u001b[0;34m,\u001b[0m \u001b[0mcv2\u001b[0m\u001b[0;34m.\u001b[0m\u001b[0mCOLOR_BGRA2BGR\u001b[0m\u001b[0;34m)\u001b[0m\u001b[0;34m\u001b[0m\u001b[0;34m\u001b[0m\u001b[0m\n",
      "\u001b[0;32m~/anaconda3/lib/python3.7/site-packages/pyautogui/__init__.py\u001b[0m in \u001b[0;36mclick\u001b[0;34m(x, y, clicks, interval, button, duration, tween, pause, logScreenshot, _pause)\u001b[0m\n\u001b[1;32m    518\u001b[0m     \"\"\"\n\u001b[1;32m    519\u001b[0m     \u001b[0mbutton\u001b[0m \u001b[0;34m=\u001b[0m \u001b[0m_translateButton\u001b[0m\u001b[0;34m(\u001b[0m\u001b[0mbutton\u001b[0m\u001b[0;34m)\u001b[0m\u001b[0;34m\u001b[0m\u001b[0;34m\u001b[0m\u001b[0m\n\u001b[0;32m--> 520\u001b[0;31m     \u001b[0mfailSafeCheck\u001b[0m\u001b[0;34m(\u001b[0m\u001b[0;34m)\u001b[0m\u001b[0;34m\u001b[0m\u001b[0;34m\u001b[0m\u001b[0m\n\u001b[0m\u001b[1;32m    521\u001b[0m     \u001b[0mx\u001b[0m\u001b[0;34m,\u001b[0m \u001b[0my\u001b[0m \u001b[0;34m=\u001b[0m \u001b[0m_unpackXY\u001b[0m\u001b[0;34m(\u001b[0m\u001b[0mx\u001b[0m\u001b[0;34m,\u001b[0m \u001b[0my\u001b[0m\u001b[0;34m)\u001b[0m\u001b[0;34m\u001b[0m\u001b[0;34m\u001b[0m\u001b[0m\n\u001b[1;32m    522\u001b[0m \u001b[0;34m\u001b[0m\u001b[0m\n",
      "\u001b[0;32m~/anaconda3/lib/python3.7/site-packages/pyautogui/__init__.py\u001b[0m in \u001b[0;36mfailSafeCheck\u001b[0;34m()\u001b[0m\n\u001b[1;32m   1255\u001b[0m \u001b[0;32mdef\u001b[0m \u001b[0mfailSafeCheck\u001b[0m\u001b[0;34m(\u001b[0m\u001b[0;34m)\u001b[0m\u001b[0;34m:\u001b[0m\u001b[0;34m\u001b[0m\u001b[0;34m\u001b[0m\u001b[0m\n\u001b[1;32m   1256\u001b[0m     \u001b[0;32mif\u001b[0m \u001b[0mFAILSAFE\u001b[0m \u001b[0;32mand\u001b[0m \u001b[0mtuple\u001b[0m\u001b[0;34m(\u001b[0m\u001b[0mposition\u001b[0m\u001b[0;34m(\u001b[0m\u001b[0;34m)\u001b[0m\u001b[0;34m)\u001b[0m \u001b[0;32min\u001b[0m \u001b[0mFAILSAFE_POINTS\u001b[0m\u001b[0;34m:\u001b[0m\u001b[0;34m\u001b[0m\u001b[0;34m\u001b[0m\u001b[0m\n\u001b[0;32m-> 1257\u001b[0;31m         \u001b[0;32mraise\u001b[0m \u001b[0mFailSafeException\u001b[0m\u001b[0;34m(\u001b[0m\u001b[0;34m'PyAutoGUI fail-safe triggered from mouse moving to a corner of the screen. To disable this fail-safe, set pyautogui.FAILSAFE to False. DISABLING FAIL-SAFE IS NOT RECOMMENDED.'\u001b[0m\u001b[0;34m)\u001b[0m\u001b[0;34m\u001b[0m\u001b[0;34m\u001b[0m\u001b[0m\n\u001b[0m\u001b[1;32m   1258\u001b[0m \u001b[0;34m\u001b[0m\u001b[0m\n\u001b[1;32m   1259\u001b[0m \u001b[0;34m\u001b[0m\u001b[0m\n",
      "\u001b[0;31mFailSafeException\u001b[0m: PyAutoGUI fail-safe triggered from mouse moving to a corner of the screen. To disable this fail-safe, set pyautogui.FAILSAFE to False. DISABLING FAIL-SAFE IS NOT RECOMMENDED."
     ]
    }
   ],
   "source": [
    "import time\n",
    "\n",
    "import cv2\n",
    "import mss\n",
    "import numpy\n",
    "\n",
    "\n",
    "with mss.mss() as sct:\n",
    "    # Part of the screen to capture\n",
    "    monitor = {\"top\": 0, \"left\": 0, \"width\": 960, \"height\": 1080}\n",
    "\n",
    "    while \"Screen capturing\":\n",
    "        last_time = time.time()\n",
    "\n",
    "        # Get raw pixels from the screen, save it to a Numpy array\n",
    "        img = numpy.array(sct.grab(monitor))\n",
    "        img = cv2.cvtColor(img, cv2.COLOR_BGRA2BGR)\n",
    "\n",
    "        # Display the picture\n",
    "        cv2.imshow(\"OpenCV/Numpy normal\", img)\n",
    "        tiles = loc_tiles(img)\n",
    "        for tile in tiles:\n",
    "            \n",
    "            \n",
    "            clickable(tile):\n",
    "                x, y, w, h = tile\n",
    "                \n",
    "                img = numpy.array(sct.grab(monitor))\n",
    "                img = cv2.cvtColor(img, cv2.COLOR_BGRA2BGR)\n",
    "                pre_click = img[y:y+h, x:x+w]\n",
    "                pyautogui.click(x=(x+w/2), y=(y+h/2))\n",
    "                img = numpy.array(sct.grab(monitor))\n",
    "                img = cv2.cvtColor(img, cv2.COLOR_BGRA2BGR)\n",
    "                post_click = img[y:y+h, x:x+w]\n",
    "                difference = cv2.subtract(pre_click, post_click)\n",
    "                b, g, r = cv2.split(difference)\n",
    "                if cv2.countNonZero(b) == 0 and cv2.countNonZero(g) == 0 and cv2.countNonZero(r) == 0:\n",
    "                    pass\n",
    "                else:\n",
    "                    return tile\n",
    "        \n",
    "        # Display the picture in grayscale\n",
    "        # cv2.imshow('OpenCV/Numpy grayscale',\n",
    "        #            cv2.cvtColor(img, cv2.COLOR_BGRA2GRAY))\n",
    "\n",
    "        print(\"fps: {}\".format(1 / (time.time() - last_time)))\n",
    "\n",
    "        # Press \"q\" to quit\n",
    "        if cv2.waitKey(25) & 0xFF == ord(\"q\"):\n",
    "            cv2.destroyAllWindows()\n",
    "            break"
   ]
  },
  {
   "cell_type": "code",
   "execution_count": null,
   "metadata": {},
   "outputs": [],
   "source": []
  }
 ],
 "metadata": {
  "kernelspec": {
   "display_name": "Python 3",
   "language": "python",
   "name": "python3"
  },
  "language_info": {
   "codemirror_mode": {
    "name": "ipython",
    "version": 3
   },
   "file_extension": ".py",
   "mimetype": "text/x-python",
   "name": "python",
   "nbconvert_exporter": "python",
   "pygments_lexer": "ipython3",
   "version": "3.7.3"
  }
 },
 "nbformat": 4,
 "nbformat_minor": 2
}
