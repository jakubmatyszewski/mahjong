{
 "cells": [
  {
   "cell_type": "code",
   "execution_count": null,
   "metadata": {},
   "outputs": [],
   "source": [
    "import cv2\n",
    "import pyautogui\n",
    "import mss\n",
    "import numpy as np\n",
    "\n",
    "pyautogui.FAILSAFE = True"
   ]
  },
  {
   "cell_type": "code",
   "execution_count": null,
   "metadata": {},
   "outputs": [],
   "source": [
    "# Setup\n",
    "threshold = 0.2  # Acceptable detection error\n",
    "min_th, max_th = (1-threshold, 1+threshold)\n",
    "img_path = 'mahjong.png'\n",
    "pattern_path = 'pattern.png'"
   ]
  },
  {
   "cell_type": "code",
   "execution_count": null,
   "metadata": {},
   "outputs": [],
   "source": [
    "def get_ratios():\n",
    "    \"\"\"Helper function to understand a tile shape.\n",
    "    Unfortunately, resizing game window can change tile shape,\n",
    "    thus different approach have to be considered.\"\"\"\n",
    "    \n",
    "    img_rgb = cv2.imread(img_path, 0)\n",
    "    i_w, i_h = img_rgb.shape[::-1]\n",
    "    template = cv2.imread(pattern_path, 0)\n",
    "    t_w, t_h = template.shape[::-1]\n",
    "    rec_ratio = t_w/t_h  # Expected tile ratio\n",
    "    height_ratio = t_h/i_h  # Expected tile-to-board height ratio\n",
    "    return rec_ratio, height_ratio, i_w, i_h\n",
    "\n",
    "rec_ratio, height_ratio, i_w, i_h = get_ratios()"
   ]
  },
  {
   "cell_type": "code",
   "execution_count": null,
   "metadata": {},
   "outputs": [],
   "source": [
    "def grab_screen():\n",
    "    \"\"\"Capture a screen image.\"\"\"\n",
    "    try:\n",
    "        img = np.array(sct.grab(monitor))\n",
    "    except NameError:\n",
    "        return \"Initiate mss first.\"\n",
    "    img = cv2.cvtColor(img, cv2.COLOR_BGRA2BGR)\n",
    "    return img"
   ]
  },
  {
   "cell_type": "code",
   "execution_count": null,
   "metadata": {},
   "outputs": [],
   "source": [
    "def loc_tiles(screen):\n",
    "    \"\"\"Localize tiles within an image.\"\"\"\n",
    "    \n",
    "    tiles = []\n",
    "    img_gray = cv2.cvtColor(screen, cv2.COLOR_BGR2GRAY)\n",
    "    binary = cv2.bitwise_not(img_gray)\n",
    "    (contours,_) = cv2.findContours(binary, cv2.RETR_TREE, cv2.CHAIN_APPROX_NONE)\n",
    "\n",
    "    for contour in contours:\n",
    "        (x,y,w,h) = cv2.boundingRect(contour)\n",
    "        if (w/h > (rec_ratio * min_th)\n",
    "            and w/h < (rec_ratio * max_th)\n",
    "            and h/i_h > (height_ratio * min_th)\n",
    "            and h/i_h < (height_ratio * max_th)):\n",
    "            tiles.append((x, y, h, w))\n",
    "    print('%d tiles detected.' % len(tiles))\n",
    "    return tiles"
   ]
  },
  {
   "cell_type": "code",
   "execution_count": null,
   "metadata": {},
   "outputs": [],
   "source": [
    "def clickable(tile):\n",
    "    \"\"\"Check whether tile is clickable.\"\"\"\n",
    "    x, y, w, h = tile\n",
    "\n",
    "    img = grab_screen()\n",
    "    pre_click = img[y:y+h, x:x+w]\n",
    "\n",
    "    pyautogui.click(x=(x+w/2), y=(y+h/2))\n",
    "\n",
    "    img = grab_screen()\n",
    "    post_click = img[y:y+h, x:x+w]\n",
    "\n",
    "    difference = cv2.subtract(pre_click, post_click)\n",
    "    b, g, r = cv2.split(difference)\n",
    "    if cv2.countNonZero(b) == 0 and cv2.countNonZero(g) == 0 and cv2.countNonZero(r) == 0:\n",
    "        return False\n",
    "    else:\n",
    "        return tile"
   ]
  },
  {
   "cell_type": "code",
   "execution_count": null,
   "metadata": {},
   "outputs": [],
   "source": [
    "def loc_siblings(tile, clickables=[]):\n",
    "    \"\"\"Finds matching tiles.\"\"\"\n",
    "    x, y, h, w = tile\n",
    "    screen = grab_screen()\n",
    "    look_for = screen[y:y+h, x:x+w]\n",
    "    result = cv2.matchTemplate(screen, look_for, cv2.TM_CCOEFF_NORMED)\n",
    "    pattern_threshold = 0.8\n",
    "    loc = np.where(result >= pattern_threshold) #  (array(y), array(x))\n",
    "    sibling = zip(*loc[::-1])\n",
    "    last_pressed = [0, 0]  # Way to limit double-taping tiles\n",
    "    \n",
    "    if loc[::-1][0].size == 1:\n",
    "        # Found only 1 tile of this type.\n",
    "        return (*list(sibling)[0],h,w)\n",
    "    \n",
    "    target = []\n",
    "    for pt in sibling:\n",
    "        pt_x = pt[0] + w/2  # Center of tile\n",
    "        pt_y = pt[1] + h/2  #\n",
    "\n",
    "        if abs(last_pressed[0] - pt[0]) < 20 and abs(last_pressed[1] - pt[1]) < 20:\n",
    "            #  Avoid clicking same tile twice.\n",
    "            pass\n",
    "        else:\n",
    "            for ctile in clickables:\n",
    "                cx, cy, ch, cw = ctile\n",
    "                if (cx < pt_x < cx+cw\n",
    "                    and cy < pt_y < cy+ch):\n",
    "                    clickables.pop(clickables.index(ctile))\n",
    "                    target.append((pt_x, pt_y))\n",
    "                    last_pressed = pt\n",
    "        \n",
    "    if len(target) > 1: # Click only if clickable pair is detected.\n",
    "        for pew in target:\n",
    "            pyautogui.click(*pew)\n",
    "            # time.sleep(1)"
   ]
  },
  {
   "cell_type": "code",
   "execution_count": null,
   "metadata": {
    "scrolled": true
   },
   "outputs": [],
   "source": [
    "with mss.mss() as sct:\n",
    "    # Part of the screen to capture\n",
    "    monitor = {\"top\": 0, \"left\": 0, \"width\": 960, \"height\": 1080}\n",
    "\n",
    "    while \"Screen capturing\":\n",
    "        last_time = time.time()\n",
    "\n",
    "        img = grab_screen()\n",
    "        tiles = loc_tiles(img)\n",
    "        tiles_count = len(tiles)\n",
    "        clickable_tiles = []\n",
    "        lonely = []\n",
    "        \n",
    "        for i, tile in enumerate(tiles):\n",
    "            clicked = clickable(tile)\n",
    "            if clicked is not False:\n",
    "                clickable_tiles.append(tile)\n",
    "        \n",
    "        clickable(clickable_tiles[-1]) # Unclick last clickable tile.\n",
    "        \n",
    "        img = grab_screen()\n",
    "        check_tiles = loc_tiles(img)\n",
    "        if len(check_tiles) == len(tiles):\n",
    "            print('Found {} clickable tiles.'.format(len(clickable_tiles)))\n",
    "            for tile in clickable_tiles:\n",
    "                output = loc_siblings(tile, clickable_tiles)\n",
    "        else:\n",
    "            pass\n",
    "            \n",
    "        print(\"fps: {}\".format(1 / (time.time() - last_time)))\n",
    "\n",
    "        # Press \"q\" to quit\n",
    "        if cv2.waitKey(25) & 0xFF == ord(\"q\"):\n",
    "            cv2.destroyAllWindows()\n",
    "            break"
   ]
  }
 ],
 "metadata": {
  "kernelspec": {
   "display_name": "Python 3",
   "language": "python",
   "name": "python3"
  },
  "language_info": {
   "codemirror_mode": {
    "name": "ipython",
    "version": 3
   },
   "file_extension": ".py",
   "mimetype": "text/x-python",
   "name": "python",
   "nbconvert_exporter": "python",
   "pygments_lexer": "ipython3",
   "version": "3.7.3"
  }
 },
 "nbformat": 4,
 "nbformat_minor": 2
}
