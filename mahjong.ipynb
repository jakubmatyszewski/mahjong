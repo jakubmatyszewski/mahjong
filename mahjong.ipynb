{
 "cells": [
  {
   "cell_type": "code",
   "execution_count": null,
   "metadata": {},
   "outputs": [],
   "source": [
    "import cv2\n",
    "import pyautogui\n",
    "import time\n",
    "import mss\n",
    "import numpy as np\n",
    "from matplotlib import pyplot as plt\n",
    "\n",
    "pyautogui.FAILSAFE = True"
   ]
  },
  {
   "cell_type": "markdown",
   "metadata": {},
   "source": [
    "---\n",
    "# Work in progress"
   ]
  },
  {
   "cell_type": "code",
   "execution_count": null,
   "metadata": {},
   "outputs": [],
   "source": [
    "s = mss.mss()\n",
    "s.monitors"
   ]
  },
  {
   "cell_type": "code",
   "execution_count": null,
   "metadata": {},
   "outputs": [],
   "source": [
    "# image = pyautogui.screenshot()  # Captured image in PIL\n",
    "# cv_image = np.array(image)  # Cv2 compatible image\n",
    "# i = cv_image[:, :, ::-1]  # Convert RGB to BGR "
   ]
  },
  {
   "cell_type": "code",
   "execution_count": null,
   "metadata": {},
   "outputs": [],
   "source": [
    "# Setup\n",
    "threshold = 0.2  # Acceptable error \n",
    "min_th, max_th = (1-threshold, 1+threshold)\n",
    "img_path = '/home/jakub/Pictures/mahjong.png'\n",
    "pattern_path = '/home/jakub/Pictures/pattern.png'"
   ]
  },
  {
   "cell_type": "code",
   "execution_count": null,
   "metadata": {},
   "outputs": [],
   "source": [
    "def get_ratios():\n",
    "    \"\"\"Helper function to understand a tile shape.\n",
    "    Unfortunately, resizing game window can change tile shape,\n",
    "    thus different approach have to be considered.\"\"\"\n",
    "    \n",
    "    img_rgb = cv2.imread(img_path, 0)\n",
    "    i_w, i_h = img_rgb.shape[::-1]\n",
    "    template = cv2.imread(pattern_path, 0)\n",
    "    t_w, t_h = template.shape[::-1]\n",
    "    rec_ratio = t_w/t_h  # Expected tile ratio\n",
    "    height_ratio = t_h/i_h  # Expected tile-to-board height ratio\n",
    "    return rec_ratio, height_ratio, i_w, i_h\n",
    "\n",
    "rec_ratio, height_ratio, i_w, i_h = get_ratios()"
   ]
  },
  {
   "cell_type": "code",
   "execution_count": null,
   "metadata": {},
   "outputs": [],
   "source": [
    "def grab_screen():\n",
    "    \"\"\"mss has to be initialized\"\"\"\n",
    "    img = np.array(sct.grab(monitor))\n",
    "    img = cv2.cvtColor(img, cv2.COLOR_BGRA2BGR)\n",
    "    return img"
   ]
  },
  {
   "cell_type": "code",
   "execution_count": null,
   "metadata": {},
   "outputs": [],
   "source": [
    "def loc_tiles(screen):\n",
    "    \"\"\"Localize tiles within an image.\"\"\"\n",
    "    \n",
    "    tiles = []\n",
    "    img_gray = cv2.cvtColor(screen, cv2.COLOR_BGR2GRAY)\n",
    "    binary = cv2.bitwise_not(img_gray)\n",
    "    (contours,_) = cv2.findContours(binary, cv2.RETR_TREE, cv2.CHAIN_APPROX_NONE)\n",
    "\n",
    "    for contour in contours:\n",
    "        (x,y,w,h) = cv2.boundingRect(contour)\n",
    "        if (w/h > (rec_ratio * min_th)\n",
    "            and w/h < (rec_ratio * max_th)\n",
    "            and h/i_h > (height_ratio * min_th)\n",
    "            and h/i_h < (height_ratio * max_th)):\n",
    "            tiles.append((x, y, h, w))\n",
    "    print('%d tiles detected.' % len(tiles))\n",
    "    return tiles"
   ]
  },
  {
   "cell_type": "code",
   "execution_count": null,
   "metadata": {},
   "outputs": [],
   "source": [
    "def try_tile(screen, tile):\n",
    "    x, y, w, h = tile\n",
    "    pre_click = screen[y:y+h, x:x+w]\n",
    "    pyautogui.click(x=(x+w/2), y=(y+h/2))\n",
    "    post_click = screen[y:y+h, x:x+w]\n",
    "    difference = cv2.subtract(pre_click, post_click)\n",
    "    b, g, r = cv2.split(difference)\n",
    "    if cv2.countNonZero(b) == 0 and cv2.countNonZero(g) == 0 and cv2.countNonZero(r) == 0:\n",
    "        print(\"Not clickable\")\n",
    "    else:\n",
    "        print(\"Clickable\")"
   ]
  },
  {
   "cell_type": "code",
   "execution_count": null,
   "metadata": {},
   "outputs": [],
   "source": [
    "def clickable(tile):\n",
    "    \"\"\"Check whether tile is clickable.\"\"\"\n",
    "    x, y, w, h = tile\n",
    "\n",
    "    img = grab_screen()\n",
    "    pre_click = img[y:y+h, x:x+w]\n",
    "\n",
    "    pyautogui.click(x=(x+w/2), y=(y+h/2))\n",
    "\n",
    "    img = grab_screen()\n",
    "    post_click = img[y:y+h, x:x+w]\n",
    "\n",
    "    difference = cv2.subtract(pre_click, post_click)\n",
    "    b, g, r = cv2.split(difference)\n",
    "    if cv2.countNonZero(b) == 0 and cv2.countNonZero(g) == 0 and cv2.countNonZero(r) == 0:\n",
    "        return False\n",
    "    else:\n",
    "        return tile"
   ]
  },
  {
   "cell_type": "code",
   "execution_count": null,
   "metadata": {},
   "outputs": [],
   "source": [
    "def loc_siblings(tile):\n",
    "    \"\"\"Finds matching tiles.\"\"\"\n",
    "    x, y, h, w = tile\n",
    "    screen = grab_screen()\n",
    "    look_for = screen[y:y+h, x:x+w]\n",
    "    res = cv2.matchTemplate(screen, look_for, cv2.TM_CCOEFF_NORMED)\n",
    "    pattern_threshold = 0.8\n",
    "    loc = np.where(res >= pattern_threshold)\n",
    "    look = zip(*loc[::-1])\n",
    "    for pt in look:\n",
    "        if loc[::-1][0].size == 1:\n",
    "            print('im lonely')  # Detect unique tiles (need it to detect\n",
    "                                # gold and black tiles).\n",
    "            lonely.append(pt)\n",
    "            pass\n",
    "        pyautogui.click(x=(pt[0]+w/2), y=(pt[1]+h/2))"
   ]
  },
  {
   "cell_type": "code",
   "execution_count": null,
   "metadata": {},
   "outputs": [],
   "source": [
    "with mss.mss() as sct:\n",
    "    # Part of the screen to capture\n",
    "    monitor = {\"top\": 0, \"left\": 0, \"width\": 960, \"height\": 1080}\n",
    "\n",
    "    while \"Screen capturing\":\n",
    "        last_time = time.time()\n",
    "\n",
    "        # Get raw pixels from the screen, save it to a np array\n",
    "        img = grab_screen()\n",
    "\n",
    "        # Display the picture\n",
    "        # cv2.imshow(\"OpenCV/numpyp normal\", img)\n",
    "        tiles = loc_tiles(img)\n",
    "        clickable_tiles = []\n",
    "        lonely = []\n",
    "        for tile in tiles:\n",
    "            clicked = clickable(tile)\n",
    "            if clicked is not False:\n",
    "                clickable_tiles.append(tile)\n",
    "        \n",
    "        print('Found {} clickable tiles.'.format(len(clickable_tiles)))\n",
    "        for tile in clickable_tiles:\n",
    "            loc_siblings(tile)\n",
    "        \n",
    "        print(\"fps: {}\".format(1 / (time.time() - last_time)))\n",
    "\n",
    "        # Press \"q\" to quit\n",
    "        if cv2.waitKey(25) & 0xFF == ord(\"q\"):\n",
    "            cv2.destroyAllWindows()\n",
    "            break"
   ]
  },
  {
   "cell_type": "markdown",
   "metadata": {},
   "source": [
    "---\n",
    "# Work in progress"
   ]
  },
  {
   "cell_type": "code",
   "execution_count": null,
   "metadata": {},
   "outputs": [],
   "source": [
    "class Mahjong:\n",
    "    def __init__(self):\n",
    "        threshold = 0.2\n",
    "        self.min_th, self.max_th = (1-threshold, 1+threshold)\n",
    "        self.img_path = '/home/jakub/Pictures/mahjong.png'\n",
    "        self.pattern_path = '/home/jakub/Pictures/pattern.png'\n",
    "        self.rec_ratio, self.height_ratio, self.i_w, self.i_h = self.get_ratios()\n",
    "        \n",
    "    def get_ratios(self):\n",
    "        img_rgb = cv2.imread(self.img_path, 0)\n",
    "        i_w, i_h = img_rgb.shape[::-1]\n",
    "        template = cv2.imread(self.pattern_path, 0)\n",
    "        t_w, t_h = template.shape[::-1]\n",
    "        rec_ratio = t_w/t_h  # Expected tile ratio\n",
    "        height_ratio = t_h/i_h  # Expected tile-to-board height ratio\n",
    "        return rec_ratio, height_ratio, i_w, i_h\n",
    "    \n",
    "    def capture_screenshot(self):\n",
    "        image = pyautogui.screenshot()  # Captured image in PIL\n",
    "        cv_image = np.array(image)  # Cv2 compatible image\n",
    "        return cv_image[:, :, ::-1]  # Convert RGB to BGR \n",
    "    \n",
    "    def loc_tiles(self):\n",
    "        self.tiles = []\n",
    "        self.lonely = []\n",
    "        self.screen = self.capture_screenshot().copy()\n",
    "        img_gray = cv2.cvtColor(self.screen, cv2.COLOR_BGR2GRAY)\n",
    "        binary = cv2.bitwise_not(img_gray)\n",
    "        (contours,_) = cv2.findContours(binary, cv2.RETR_TREE, cv2.CHAIN_APPROX_NONE)\n",
    "        \n",
    "        for contour in contours:\n",
    "            (x,y,w,h) = cv2.boundingRect(contour)\n",
    "            if (w/h > (self.rec_ratio * self.min_th)\n",
    "                and w/h < (self.rec_ratio * self.max_th)\n",
    "                and h/self.i_h > (self.height_ratio * self.min_th)\n",
    "                and h/self.i_h < (self.height_ratio * self.max_th)):\n",
    "                self.tiles.append((x, y, h, w))\n",
    "        print('%d tiles detected.' % len(self.tiles))\n",
    "    \n",
    "    def loc_siblings(self, i):\n",
    "        x, y, h, w = self.tiles[i]\n",
    "        look_for = self.screen[y:y+h, x:x+w]\n",
    "        res = cv2.matchTemplate(self.screen, look_for, cv2.TM_CCOEFF_NORMED)\n",
    "        threshold = 0.8\n",
    "        loc = np.where(res >= threshold)\n",
    "        look = zip(*loc[::-1])\n",
    "        for pt in look:\n",
    "            if loc[::-1][0].size == 1:\n",
    "                print('im lonely')\n",
    "                self.lonely.append(pt)\n",
    "                break\n",
    "            pyautogui.click(x=(pt[0]+w/2), y=(pt[1]+h/2))\n",
    "\n",
    "    def solve(self):\n",
    "        start = time.time()\n",
    "        self.loc_tiles()\n",
    "        for tile in range(len(self.tiles)):\n",
    "            self.loc_siblings(tile)\n",
    "        print(self.lonely)\n",
    "        stop = time.time()\n",
    "        return stop - start"
   ]
  }
 ],
 "metadata": {
  "kernelspec": {
   "display_name": "Python 3",
   "language": "python",
   "name": "python3"
  },
  "language_info": {
   "codemirror_mode": {
    "name": "ipython",
    "version": 3
   },
   "file_extension": ".py",
   "mimetype": "text/x-python",
   "name": "python",
   "nbconvert_exporter": "python",
   "pygments_lexer": "ipython3",
   "version": "3.7.3"
  }
 },
 "nbformat": 4,
 "nbformat_minor": 2
}
